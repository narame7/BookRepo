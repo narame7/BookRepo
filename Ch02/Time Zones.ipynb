{
 "cells": [
  {
   "cell_type": "code",
   "execution_count": 119,
   "id": "cc2114c7-305b-41dc-a052-515bfbbc41e5",
   "metadata": {},
   "outputs": [
    {
     "data": {
      "text/plain": [
       "datetime.datetime(2023, 3, 23, 5, 57, 58, 476592)"
      ]
     },
     "execution_count": 119,
     "metadata": {},
     "output_type": "execute_result"
    }
   ],
   "source": [
    "import datetime\n",
    "import pytz\n",
    "\n",
    "datetime.datetime.utcnow()"
   ]
  },
  {
   "cell_type": "code",
   "execution_count": 120,
   "id": "0468778c-4aa9-411c-84ad-c4809599c491",
   "metadata": {},
   "outputs": [
    {
     "data": {
      "text/plain": [
       "datetime.datetime(2023, 3, 23, 14, 58, 12, 710425)"
      ]
     },
     "execution_count": 120,
     "metadata": {},
     "output_type": "execute_result"
    }
   ],
   "source": [
    "datetime.datetime.now()\n",
    "# as we can see, my computer does not return UTC even though there is no time zone attached"
   ]
  },
  {
   "cell_type": "code",
   "execution_count": 121,
   "id": "b753cc38-7bc3-4177-9320-e8e472602331",
   "metadata": {},
   "outputs": [
    {
     "data": {
      "text/plain": [
       "datetime.datetime(2023, 3, 23, 5, 58, 30, 677084, tzinfo=datetime.timezone.utc)"
      ]
     },
     "execution_count": 121,
     "metadata": {},
     "output_type": "execute_result"
    }
   ],
   "source": [
    "datetime.datetime.now(datetime.timezone.utc)"
   ]
  },
  {
   "cell_type": "code",
   "execution_count": 122,
   "id": "ca37eb21-6cc6-4b53-ac75-96e9c5b53e57",
   "metadata": {},
   "outputs": [
    {
     "data": {
      "text/plain": [
       "'US/Pacific'"
      ]
     },
     "execution_count": 122,
     "metadata": {},
     "output_type": "execute_result"
    }
   ],
   "source": [
    "western = pytz.timezone('US/Pacific')\n",
    "western.zone"
   ]
  },
  {
   "cell_type": "code",
   "execution_count": 123,
   "id": "fecd95ad-1b9a-4a97-8e66-a3656bdc9ca7",
   "metadata": {},
   "outputs": [
    {
     "data": {
      "text/plain": [
       "datetime.datetime(2023, 3, 23, 14, 59, 14, 868836, tzinfo=<DstTzInfo 'US/Pacific' PDT-1 day, 17:00:00 DST>)"
      ]
     },
     "execution_count": 123,
     "metadata": {},
     "output_type": "execute_result"
    }
   ],
   "source": [
    "## the API supports two ways of building a time zone aware time, either via 'localize' or to convert a timezone from one locale to another\n",
    "# here we localize\n",
    "loc_dt = western.localize(datetime.datetime.now())\n",
    "loc_dt"
   ]
  },
  {
   "cell_type": "code",
   "execution_count": 124,
   "id": "10d83692-bbaa-42dc-833f-0818d6ca84b1",
   "metadata": {},
   "outputs": [
    {
     "data": {
      "text/plain": [
       "datetime.datetime(2023, 3, 23, 21, 59, 14, 868836, tzinfo=<DstTzInfo 'Europe/London' GMT0:00:00 STD>)"
      ]
     },
     "execution_count": 124,
     "metadata": {},
     "output_type": "execute_result"
    }
   ],
   "source": [
    "london_tz = pytz.timezone('Europe/London')\n",
    "london_dt = loc_dt.astimezone(london_tz)\n",
    "london_dt"
   ]
  },
  {
   "cell_type": "code",
   "execution_count": 125,
   "id": "96d0a326-6189-49df-9416-c1b2b1a63928",
   "metadata": {},
   "outputs": [
    {
     "data": {
      "text/plain": [
       "'2023-03-16 14:00:00 LMT-0001'"
      ]
     },
     "execution_count": 125,
     "metadata": {},
     "output_type": "execute_result"
    }
   ],
   "source": [
    "f = '%Y-%m-%d %H:%M:%S %Z%z'\n",
    "datetime.datetime(2023, 3, 16, 14, 0, 0, tzinfo = london_tz).strftime(f)\n",
    "## as highlighted in the pytz documentation using the tzinfo of the datetime.datetime initializer does not always lead to the desired outcome\n",
    "## such as with the London\n",
    "## according to the pytz documentation, this method does lead to the desired results in time zones without daylight savings"
   ]
  },
  {
   "cell_type": "code",
   "execution_count": 126,
   "id": "7ad2b6de-75e2-4477-b3d9-9f2de2777055",
   "metadata": {},
   "outputs": [
    {
     "data": {
      "text/plain": [
       "datetime.timedelta(days=1, seconds=17520)"
      ]
     },
     "execution_count": 126,
     "metadata": {},
     "output_type": "execute_result"
    }
   ],
   "source": [
    "# generally you want to store data in UTC and convert only when generating human readable output\n",
    "# you can also do date arithmetic with time zones\n",
    "event1 = datetime.datetime(2018, 5, 12, 12, 15, 0, tzinfo = london_tz)\n",
    "event2 = datetime.datetime(2018, 5, 13, 9, 15, 0, tzinfo = western)\n",
    "event2 - event1\n",
    "## this will yield the wrong time delta because the time zones haven't been labelled properly"
   ]
  },
  {
   "cell_type": "code",
   "execution_count": 127,
   "id": "ad8f6e37-82d9-496a-8e4e-0dad01cee287",
   "metadata": {},
   "outputs": [
    {
     "data": {
      "text/plain": [
       "datetime.timedelta(days=1, seconds=18000)"
      ]
     },
     "execution_count": 127,
     "metadata": {},
     "output_type": "execute_result"
    }
   ],
   "source": [
    "event1 = london_tz.localize( datetime.datetime(2018, 5, 12, 12, 15, 0))\n",
    "event2 = western.localize(datetime.datetime(2018, 5, 13, 9, 15, 0))\n",
    "event2 - event1"
   ]
  },
  {
   "cell_type": "code",
   "execution_count": 128,
   "id": "5c77f01b-1c2f-4d63-8647-240fe4933628",
   "metadata": {},
   "outputs": [
    {
     "data": {
      "text/plain": [
       "datetime.timedelta(days=1, seconds=18000)"
      ]
     },
     "execution_count": 128,
     "metadata": {},
     "output_type": "execute_result"
    }
   ],
   "source": [
    "event1 = london_tz.localize((datetime.datetime(2018, 5, 12, 12, 15, 0))).astimezone(datetime.timezone.utc)\n",
    "event2 = western.localize(datetime.datetime(2018, 5, 13, 9, 15, 0)).astimezone(datetime.timezone.utc)\n",
    "event2 - event1"
   ]
  },
  {
   "cell_type": "code",
   "execution_count": null,
   "id": "81c2df75-2623-4b98-8d04-99e98b25c7f1",
   "metadata": {},
   "outputs": [],
   "source": [
    "## note that in the event you are working on dates for arithmetic that could corss daylight savings time boundaries\n",
    "## you also need to apply the normalize function for your time zone\n",
    "# event1 = london_tz.localize( datetime.datetime(2018, 5, 12, 12, 15, 0))\n",
    "# event2 = western.localize(datetime.datetime(2018, 5, 13, 9, 15, 0))"
   ]
  },
  {
   "cell_type": "code",
   "execution_count": null,
   "id": "9466a13f-c36b-453a-91c4-df7da0e51d75",
   "metadata": {},
   "outputs": [],
   "source": [
    "## have a look at pytz.common_timezones\n",
    "pytz.common_timezones"
   ]
  },
  {
   "cell_type": "code",
   "execution_count": 130,
   "id": "16e07668-74bd-441c-bc69-884ccab30e71",
   "metadata": {},
   "outputs": [
    {
     "data": {
      "text/plain": [
       "['Europe/Kaliningrad',\n",
       " 'Europe/Moscow',\n",
       " 'Europe/Kirov',\n",
       " 'Europe/Volgograd',\n",
       " 'Europe/Astrakhan',\n",
       " 'Europe/Saratov',\n",
       " 'Europe/Ulyanovsk',\n",
       " 'Europe/Samara',\n",
       " 'Asia/Yekaterinburg',\n",
       " 'Asia/Omsk',\n",
       " 'Asia/Novosibirsk',\n",
       " 'Asia/Barnaul',\n",
       " 'Asia/Tomsk',\n",
       " 'Asia/Novokuznetsk',\n",
       " 'Asia/Krasnoyarsk',\n",
       " 'Asia/Irkutsk',\n",
       " 'Asia/Chita',\n",
       " 'Asia/Yakutsk',\n",
       " 'Asia/Khandyga',\n",
       " 'Asia/Vladivostok',\n",
       " 'Asia/Ust-Nera',\n",
       " 'Asia/Magadan',\n",
       " 'Asia/Sakhalin',\n",
       " 'Asia/Srednekolymsk',\n",
       " 'Asia/Kamchatka',\n",
       " 'Asia/Anadyr']"
      ]
     },
     "execution_count": 130,
     "metadata": {},
     "output_type": "execute_result"
    }
   ],
   "source": [
    "## or country specific\n",
    "pytz.country_timezones('RU')\n",
    "# >>>"
   ]
  },
  {
   "cell_type": "code",
   "execution_count": 131,
   "id": "68ec0aa9-d0cf-4256-a4c9-29d81c02df2f",
   "metadata": {},
   "outputs": [
    {
     "data": {
      "text/plain": [
       "['Asia/Seoul']"
      ]
     },
     "execution_count": 131,
     "metadata": {},
     "output_type": "execute_result"
    }
   ],
   "source": [
    "pytz.country_timezones('KR')"
   ]
  },
  {
   "cell_type": "code",
   "execution_count": 134,
   "id": "86e40a33-d2f8-4470-bf60-0da8146c4938",
   "metadata": {},
   "outputs": [
    {
     "data": {
      "text/plain": [
       "datetime.datetime(2002, 10, 27, 1, 30, tzinfo=<DstTzInfo 'US/Pacific' PDT-1 day, 17:00:00 DST>)"
      ]
     },
     "execution_count": 134,
     "metadata": {},
     "output_type": "execute_result"
    }
   ],
   "source": [
    "## time zones\n",
    "ambig_time = western.localize(datetime.datetime(2002, 10, 27, 1, 30, 00)).astimezone(datetime.timezone.utc)\n",
    "ambig_time_earlier = ambig_time - datetime.timedelta(hours=1)\n",
    "ambig_time_later = ambig_time + datetime.timedelta(hours=1)\n",
    "ambig_time_earlier.astimezone(western)"
   ]
  },
  {
   "cell_type": "code",
   "execution_count": 135,
   "id": "681d28e8-ad9f-467b-aa9d-074ab4fee08e",
   "metadata": {},
   "outputs": [
    {
     "data": {
      "text/plain": [
       "datetime.datetime(2002, 10, 27, 1, 30, tzinfo=<DstTzInfo 'US/Pacific' PST-1 day, 16:00:00 STD>)"
      ]
     },
     "execution_count": 135,
     "metadata": {},
     "output_type": "execute_result"
    }
   ],
   "source": [
    "ambig_time.astimezone(western)"
   ]
  },
  {
   "cell_type": "code",
   "execution_count": 136,
   "id": "0e49c624-988e-471d-8681-64d3671b0c19",
   "metadata": {},
   "outputs": [
    {
     "data": {
      "text/plain": [
       "datetime.datetime(2002, 10, 27, 2, 30, tzinfo=<DstTzInfo 'US/Pacific' PST-1 day, 16:00:00 STD>)"
      ]
     },
     "execution_count": 136,
     "metadata": {},
     "output_type": "execute_result"
    }
   ],
   "source": [
    "ambig_time_later.astimezone(western)\n",
    "# notice that the last two timestamps are identical, no good!"
   ]
  },
  {
   "cell_type": "code",
   "execution_count": 137,
   "id": "8c7cf3df-6264-429e-b3d9-e72c2727e7a5",
   "metadata": {},
   "outputs": [
    {
     "data": {
      "text/plain": [
       "datetime.datetime(2002, 10, 27, 0, 30, tzinfo=<DstTzInfo 'US/Pacific' PDT-1 day, 17:00:00 DST>)"
      ]
     },
     "execution_count": 137,
     "metadata": {},
     "output_type": "execute_result"
    }
   ],
   "source": [
    "## in this case you need to use is_dst to indicate whether daylight savings is in effect\n",
    "ambig_time = western.localize(datetime.datetime(2002, 10, 27, 1, 30, 00), is_dst = True).astimezone(datetime.timezone.utc)\n",
    "ambig_time_earlier = ambig_time - datetime.timedelta(hours=1)\n",
    "ambig_time_later = ambig_time + datetime.timedelta(hours=1)\n",
    "ambig_time_earlier.astimezone(western)"
   ]
  },
  {
   "cell_type": "code",
   "execution_count": 138,
   "id": "e815cb07-daee-4510-a147-9dbb0a2b1fb2",
   "metadata": {},
   "outputs": [
    {
     "data": {
      "text/plain": [
       "datetime.datetime(2002, 10, 27, 1, 30, tzinfo=<DstTzInfo 'US/Pacific' PDT-1 day, 17:00:00 DST>)"
      ]
     },
     "execution_count": 138,
     "metadata": {},
     "output_type": "execute_result"
    }
   ],
   "source": [
    "ambig_time.astimezone(western)"
   ]
  },
  {
   "cell_type": "code",
   "execution_count": 139,
   "id": "18d31f24-b66b-4072-b782-31a7fa726b53",
   "metadata": {},
   "outputs": [
    {
     "data": {
      "text/plain": [
       "datetime.datetime(2002, 10, 27, 1, 30, tzinfo=<DstTzInfo 'US/Pacific' PST-1 day, 16:00:00 STD>)"
      ]
     },
     "execution_count": 139,
     "metadata": {},
     "output_type": "execute_result"
    }
   ],
   "source": [
    "ambig_time_later.astimezone(western)"
   ]
  },
  {
   "cell_type": "code",
   "execution_count": null,
   "id": "e6abdb50-6e3a-4e1f-a089-00936361c2fb",
   "metadata": {},
   "outputs": [],
   "source": [
    "## notice that now we don't have the same time happening twice.\n",
    "## it may appear that way until you check the offset from UTC\n",
    "loc_dt.strftime(f)"
   ]
  },
  {
   "cell_type": "code",
   "execution_count": null,
   "id": "323d0ab8-e4dc-4829-a97e-c04e1fc3ffc0",
   "metadata": {},
   "outputs": [],
   "source": []
  }
 ],
 "metadata": {
  "kernelspec": {
   "display_name": "venv38",
   "language": "python",
   "name": "venv38"
  },
  "language_info": {
   "codemirror_mode": {
    "name": "ipython",
    "version": 3
   },
   "file_extension": ".py",
   "mimetype": "text/x-python",
   "name": "python",
   "nbconvert_exporter": "python",
   "pygments_lexer": "ipython3",
   "version": "3.8.0"
  }
 },
 "nbformat": 4,
 "nbformat_minor": 5
}
