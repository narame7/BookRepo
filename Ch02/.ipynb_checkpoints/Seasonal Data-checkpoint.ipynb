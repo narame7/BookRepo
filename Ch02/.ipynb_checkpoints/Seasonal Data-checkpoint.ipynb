{
 "cells": [
  {
   "cell_type": "code",
   "execution_count": 1,
   "id": "fe65fee5-4152-4b42-b76c-d7ede6a04265",
   "metadata": {},
   "outputs": [],
   "source": [
    "import pandas as pd\n",
    "\n",
    "air = pd.read_csv('data/AirPassengers.csv', parse_dates = True, header = None)\n",
    "air.columns = ['Date', 'Passengers']"
   ]
  },
  {
   "cell_type": "code",
   "execution_count": 3,
   "id": "2565bd9b-34e9-4d9a-b393-01f78a12024f",
   "metadata": {},
   "outputs": [
    {
     "data": {
      "text/plain": [
       "<AxesSubplot:>"
      ]
     },
     "execution_count": 3,
     "metadata": {},
     "output_type": "execute_result"
    },
    {
     "data": {
      "image/png": "[encoded data removed]",
      "text/plain": [
       "<Figure size 432x288 with 1 Axes>"
      ]
     },
     "metadata": {
      "needs_background": "light"
     },
     "output_type": "display_data"
    }
   ],
   "source": [
    "air.plot()"
   ]
  },
  {
   "cell_type": "code",
   "execution_count": 6,
   "id": "cf03a948-a2b0-4a40-bb2e-dc820d6e5dc1",
   "metadata": {},
   "outputs": [],
   "source": [
    "from statsmodels.tsa.seasonal import STL"
   ]
  },
  {
   "cell_type": "code",
   "execution_count": 23,
   "id": "2ca29453-cadb-4e78-b46f-2805afc2ae9b",
   "metadata": {},
   "outputs": [],
   "source": [
    "air.Date = pd.to_datetime(air.Date)\n",
    "air.set_index(air.Date, inplace=True)\n",
    "air = air.resample('M').mean().ffill()"
   ]
  },
  {
   "cell_type": "code",
   "execution_count": 11,
   "id": "04768fe0-e8d9-4bc3-ab31-ecc95d2147c3",
   "metadata": {},
   "outputs": [],
   "source": [
    "from statsmodels.datasets import co2"
   ]
  },
  {
   "cell_type": "code",
   "execution_count": 35,
   "id": "0d0dc240-0d6e-40ea-bf07-f6ed9acb2783",
   "metadata": {},
   "outputs": [],
   "source": [
    "res = STL(air).fit()"
   ]
  },
  {
   "cell_type": "code",
   "execution_count": 32,
   "id": "1823d86d-a41a-41b3-bb15-06f958f784a1",
   "metadata": {},
   "outputs": [],
   "source": []
  },
  {
   "cell_type": "code",
   "execution_count": 33,
   "id": "080927b2-51a9-4b46-bd3f-e03f10709a75",
   "metadata": {},
   "outputs": [
    {
     "data": {
      "text/html": [
       "<div>\n",
       "<style scoped>\n",
       "    .dataframe tbody tr th:only-of-type {\n",
       "        vertical-align: middle;\n",
       "    }\n",
       "\n",
       "    .dataframe tbody tr th {\n",
       "        vertical-align: top;\n",
       "    }\n",
       "\n",
       "    .dataframe thead th {\n",
       "        text-align: right;\n",
       "    }\n",
       "</style>\n",
       "<table border=\"1\" class=\"dataframe\">\n",
       "  <thead>\n",
       "    <tr style=\"text-align: right;\">\n",
       "      <th></th>\n",
       "      <th>Passengers</th>\n",
       "    </tr>\n",
       "    <tr>\n",
       "      <th>Date</th>\n",
       "      <th></th>\n",
       "    </tr>\n",
       "  </thead>\n",
       "  <tbody>\n",
       "    <tr>\n",
       "      <th>1949-01-31</th>\n",
       "      <td>112.0</td>\n",
       "    </tr>\n",
       "    <tr>\n",
       "      <th>1949-02-28</th>\n",
       "      <td>118.0</td>\n",
       "    </tr>\n",
       "    <tr>\n",
       "      <th>1949-03-31</th>\n",
       "      <td>132.0</td>\n",
       "    </tr>\n",
       "    <tr>\n",
       "      <th>1949-04-30</th>\n",
       "      <td>129.0</td>\n",
       "    </tr>\n",
       "    <tr>\n",
       "      <th>1949-05-31</th>\n",
       "      <td>121.0</td>\n",
       "    </tr>\n",
       "    <tr>\n",
       "      <th>...</th>\n",
       "      <td>...</td>\n",
       "    </tr>\n",
       "    <tr>\n",
       "      <th>1960-08-31</th>\n",
       "      <td>606.0</td>\n",
       "    </tr>\n",
       "    <tr>\n",
       "      <th>1960-09-30</th>\n",
       "      <td>508.0</td>\n",
       "    </tr>\n",
       "    <tr>\n",
       "      <th>1960-10-31</th>\n",
       "      <td>461.0</td>\n",
       "    </tr>\n",
       "    <tr>\n",
       "      <th>1960-11-30</th>\n",
       "      <td>390.0</td>\n",
       "    </tr>\n",
       "    <tr>\n",
       "      <th>1960-12-31</th>\n",
       "      <td>432.0</td>\n",
       "    </tr>\n",
       "  </tbody>\n",
       "</table>\n",
       "<p>144 rows × 1 columns</p>\n",
       "</div>"
      ],
      "text/plain": [
       "            Passengers\n",
       "Date                  \n",
       "1949-01-31       112.0\n",
       "1949-02-28       118.0\n",
       "1949-03-31       132.0\n",
       "1949-04-30       129.0\n",
       "1949-05-31       121.0\n",
       "...                ...\n",
       "1960-08-31       606.0\n",
       "1960-09-30       508.0\n",
       "1960-10-31       461.0\n",
       "1960-11-30       390.0\n",
       "1960-12-31       432.0\n",
       "\n",
       "[144 rows x 1 columns]"
      ]
     },
     "execution_count": 33,
     "metadata": {},
     "output_type": "execute_result"
    }
   ],
   "source": [
    "air"
   ]
  },
  {
   "cell_type": "code",
   "execution_count": null,
   "id": "dc886df0-76e4-46d3-b618-f74b8eb5672d",
   "metadata": {},
   "outputs": [],
   "source": []
  }
 ],
 "metadata": {
  "kernelspec": {
   "display_name": "venv38",
   "language": "python",
   "name": "venv38"
  },
  "language_info": {
   "codemirror_mode": {
    "name": "ipython",
    "version": 3
   },
   "file_extension": ".py",
   "mimetype": "text/x-python",
   "name": "python",
   "nbconvert_exporter": "python",
   "pygments_lexer": "ipython3",
   "version": "3.8.0"
  }
 },
 "nbformat": 4,
 "nbformat_minor": 5
}
