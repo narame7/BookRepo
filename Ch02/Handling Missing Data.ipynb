{
 "cells": [
  {
   "cell_type": "code",
   "execution_count": 265,
   "id": "863943a1-2ccc-4514-8b0f-7ddb8e1449c2",
   "metadata": {},
   "outputs": [],
   "source": [
    "import pandas as pd\n",
    "import matplotlib.pyplot as plt"
   ]
  },
  {
   "cell_type": "code",
   "execution_count": 227,
   "id": "692ff924-fe8b-4963-b53b-34e5ad26c2f0",
   "metadata": {},
   "outputs": [],
   "source": [
    "unemp = pd.read_csv('data/UNRATE.csv')"
   ]
  },
  {
   "cell_type": "code",
   "execution_count": 234,
   "id": "261494d2-e4a5-4649-a392-0cccf9207e8b",
   "metadata": {},
   "outputs": [],
   "source": [
    "random_idx = unemp.sample(frac=0.1).index\n",
    "random_unemp = unemp.drop(random_idx)"
   ]
  },
  {
   "cell_type": "code",
   "execution_count": 242,
   "id": "004d9a35-4f63-46a8-a28e-94008f64a371",
   "metadata": {},
   "outputs": [
    {
     "data": {
      "text/html": [
       "<div>\n",
       "<style scoped>\n",
       "    .dataframe tbody tr th:only-of-type {\n",
       "        vertical-align: middle;\n",
       "    }\n",
       "\n",
       "    .dataframe tbody tr th {\n",
       "        vertical-align: top;\n",
       "    }\n",
       "\n",
       "    .dataframe thead th {\n",
       "        text-align: right;\n",
       "    }\n",
       "</style>\n",
       "<table border=\"1\" class=\"dataframe\">\n",
       "  <thead>\n",
       "    <tr style=\"text-align: right;\">\n",
       "      <th></th>\n",
       "      <th>DATE</th>\n",
       "      <th>UNRATE</th>\n",
       "    </tr>\n",
       "  </thead>\n",
       "  <tbody>\n",
       "    <tr>\n",
       "      <th>0</th>\n",
       "      <td>1948-01-01</td>\n",
       "      <td>3.4</td>\n",
       "    </tr>\n",
       "    <tr>\n",
       "      <th>1</th>\n",
       "      <td>1948-02-01</td>\n",
       "      <td>3.8</td>\n",
       "    </tr>\n",
       "    <tr>\n",
       "      <th>2</th>\n",
       "      <td>1948-03-01</td>\n",
       "      <td>4.0</td>\n",
       "    </tr>\n",
       "    <tr>\n",
       "      <th>3</th>\n",
       "      <td>1948-04-01</td>\n",
       "      <td>3.9</td>\n",
       "    </tr>\n",
       "    <tr>\n",
       "      <th>4</th>\n",
       "      <td>1948-05-01</td>\n",
       "      <td>3.5</td>\n",
       "    </tr>\n",
       "    <tr>\n",
       "      <th>...</th>\n",
       "      <td>...</td>\n",
       "      <td>...</td>\n",
       "    </tr>\n",
       "    <tr>\n",
       "      <th>839</th>\n",
       "      <td>2017-12-01</td>\n",
       "      <td>4.1</td>\n",
       "    </tr>\n",
       "    <tr>\n",
       "      <th>840</th>\n",
       "      <td>2018-01-01</td>\n",
       "      <td>4.1</td>\n",
       "    </tr>\n",
       "    <tr>\n",
       "      <th>841</th>\n",
       "      <td>2018-02-01</td>\n",
       "      <td>4.1</td>\n",
       "    </tr>\n",
       "    <tr>\n",
       "      <th>842</th>\n",
       "      <td>2018-03-01</td>\n",
       "      <td>4.1</td>\n",
       "    </tr>\n",
       "    <tr>\n",
       "      <th>843</th>\n",
       "      <td>2018-04-01</td>\n",
       "      <td>3.9</td>\n",
       "    </tr>\n",
       "  </tbody>\n",
       "</table>\n",
       "<p>760 rows × 2 columns</p>\n",
       "</div>"
      ],
      "text/plain": [
       "           DATE  UNRATE\n",
       "0    1948-01-01     3.4\n",
       "1    1948-02-01     3.8\n",
       "2    1948-03-01     4.0\n",
       "3    1948-04-01     3.9\n",
       "4    1948-05-01     3.5\n",
       "..          ...     ...\n",
       "839  2017-12-01     4.1\n",
       "840  2018-01-01     4.1\n",
       "841  2018-02-01     4.1\n",
       "842  2018-03-01     4.1\n",
       "843  2018-04-01     3.9\n",
       "\n",
       "[760 rows x 2 columns]"
      ]
     },
     "execution_count": 242,
     "metadata": {},
     "output_type": "execute_result"
    }
   ],
   "source": [
    "random_unemp"
   ]
  },
  {
   "cell_type": "code",
   "execution_count": 236,
   "id": "cea5aa6b-8453-4b05-a0ed-10a9433039d7",
   "metadata": {},
   "outputs": [],
   "source": [
    "high_unemp_idx = unemp[unemp.UNRATE > 8]"
   ]
  },
  {
   "cell_type": "code",
   "execution_count": 239,
   "id": "381378f0-9ac0-4727-af40-656a7ac03be2",
   "metadata": {},
   "outputs": [],
   "source": [
    "high_unemp_sample_idx = high_unemp_idx.sample(n=int(len(high_unemp_idx) * .2)).index"
   ]
  },
  {
   "cell_type": "code",
   "execution_count": 240,
   "id": "31de41a5-fcc8-4a9c-900d-878f706db58f",
   "metadata": {},
   "outputs": [],
   "source": [
    "bias_unemp = unemp.drop(high_unemp_sample_idx)"
   ]
  },
  {
   "cell_type": "code",
   "execution_count": 241,
   "id": "dd0eae13-e153-4ef1-8372-24d8e59e7f24",
   "metadata": {},
   "outputs": [
    {
     "data": {
      "text/html": [
       "<div>\n",
       "<style scoped>\n",
       "    .dataframe tbody tr th:only-of-type {\n",
       "        vertical-align: middle;\n",
       "    }\n",
       "\n",
       "    .dataframe tbody tr th {\n",
       "        vertical-align: top;\n",
       "    }\n",
       "\n",
       "    .dataframe thead th {\n",
       "        text-align: right;\n",
       "    }\n",
       "</style>\n",
       "<table border=\"1\" class=\"dataframe\">\n",
       "  <thead>\n",
       "    <tr style=\"text-align: right;\">\n",
       "      <th></th>\n",
       "      <th>DATE</th>\n",
       "      <th>UNRATE</th>\n",
       "    </tr>\n",
       "  </thead>\n",
       "  <tbody>\n",
       "    <tr>\n",
       "      <th>0</th>\n",
       "      <td>1948-01-01</td>\n",
       "      <td>3.4</td>\n",
       "    </tr>\n",
       "    <tr>\n",
       "      <th>1</th>\n",
       "      <td>1948-02-01</td>\n",
       "      <td>3.8</td>\n",
       "    </tr>\n",
       "    <tr>\n",
       "      <th>2</th>\n",
       "      <td>1948-03-01</td>\n",
       "      <td>4.0</td>\n",
       "    </tr>\n",
       "    <tr>\n",
       "      <th>3</th>\n",
       "      <td>1948-04-01</td>\n",
       "      <td>3.9</td>\n",
       "    </tr>\n",
       "    <tr>\n",
       "      <th>4</th>\n",
       "      <td>1948-05-01</td>\n",
       "      <td>3.5</td>\n",
       "    </tr>\n",
       "    <tr>\n",
       "      <th>...</th>\n",
       "      <td>...</td>\n",
       "      <td>...</td>\n",
       "    </tr>\n",
       "    <tr>\n",
       "      <th>839</th>\n",
       "      <td>2017-12-01</td>\n",
       "      <td>4.1</td>\n",
       "    </tr>\n",
       "    <tr>\n",
       "      <th>840</th>\n",
       "      <td>2018-01-01</td>\n",
       "      <td>4.1</td>\n",
       "    </tr>\n",
       "    <tr>\n",
       "      <th>841</th>\n",
       "      <td>2018-02-01</td>\n",
       "      <td>4.1</td>\n",
       "    </tr>\n",
       "    <tr>\n",
       "      <th>842</th>\n",
       "      <td>2018-03-01</td>\n",
       "      <td>4.1</td>\n",
       "    </tr>\n",
       "    <tr>\n",
       "      <th>843</th>\n",
       "      <td>2018-04-01</td>\n",
       "      <td>3.9</td>\n",
       "    </tr>\n",
       "  </tbody>\n",
       "</table>\n",
       "<p>828 rows × 2 columns</p>\n",
       "</div>"
      ],
      "text/plain": [
       "           DATE  UNRATE\n",
       "0    1948-01-01     3.4\n",
       "1    1948-02-01     3.8\n",
       "2    1948-03-01     4.0\n",
       "3    1948-04-01     3.9\n",
       "4    1948-05-01     3.5\n",
       "..          ...     ...\n",
       "839  2017-12-01     4.1\n",
       "840  2018-01-01     4.1\n",
       "841  2018-02-01     4.1\n",
       "842  2018-03-01     4.1\n",
       "843  2018-04-01     3.9\n",
       "\n",
       "[828 rows x 2 columns]"
      ]
     },
     "execution_count": 241,
     "metadata": {},
     "output_type": "execute_result"
    }
   ],
   "source": [
    "bias_unemp"
   ]
  },
  {
   "cell_type": "code",
   "execution_count": 243,
   "id": "b3cf503e-508e-4944-a66b-10f1b8306f49",
   "metadata": {},
   "outputs": [],
   "source": [
    "merged_unemp = unemp.join(random_unemp.set_index('DATE'), on='DATE', rsuffix='_random')"
   ]
  },
  {
   "cell_type": "code",
   "execution_count": 250,
   "id": "8399c768-0d69-4a49-bd30-2d4692b93851",
   "metadata": {},
   "outputs": [],
   "source": [
    "merged_unemp = merged_unemp.join(bias_unemp.set_index('DATE'), on='DATE', rsuffix='_bias')"
   ]
  },
  {
   "cell_type": "code",
   "execution_count": 251,
   "id": "c2a97102-369d-4411-afdf-d6fbcbd5b7f5",
   "metadata": {},
   "outputs": [
    {
     "data": {
      "text/html": [
       "<div>\n",
       "<style scoped>\n",
       "    .dataframe tbody tr th:only-of-type {\n",
       "        vertical-align: middle;\n",
       "    }\n",
       "\n",
       "    .dataframe tbody tr th {\n",
       "        vertical-align: top;\n",
       "    }\n",
       "\n",
       "    .dataframe thead th {\n",
       "        text-align: right;\n",
       "    }\n",
       "</style>\n",
       "<table border=\"1\" class=\"dataframe\">\n",
       "  <thead>\n",
       "    <tr style=\"text-align: right;\">\n",
       "      <th></th>\n",
       "      <th>DATE</th>\n",
       "      <th>UNRATE</th>\n",
       "      <th>UNRATE_random</th>\n",
       "      <th>UNRATE_bias</th>\n",
       "    </tr>\n",
       "  </thead>\n",
       "  <tbody>\n",
       "    <tr>\n",
       "      <th>0</th>\n",
       "      <td>1948-01-01</td>\n",
       "      <td>3.4</td>\n",
       "      <td>3.4</td>\n",
       "      <td>3.4</td>\n",
       "    </tr>\n",
       "    <tr>\n",
       "      <th>1</th>\n",
       "      <td>1948-02-01</td>\n",
       "      <td>3.8</td>\n",
       "      <td>3.8</td>\n",
       "      <td>3.8</td>\n",
       "    </tr>\n",
       "    <tr>\n",
       "      <th>2</th>\n",
       "      <td>1948-03-01</td>\n",
       "      <td>4.0</td>\n",
       "      <td>4.0</td>\n",
       "      <td>4.0</td>\n",
       "    </tr>\n",
       "    <tr>\n",
       "      <th>3</th>\n",
       "      <td>1948-04-01</td>\n",
       "      <td>3.9</td>\n",
       "      <td>3.9</td>\n",
       "      <td>3.9</td>\n",
       "    </tr>\n",
       "    <tr>\n",
       "      <th>4</th>\n",
       "      <td>1948-05-01</td>\n",
       "      <td>3.5</td>\n",
       "      <td>3.5</td>\n",
       "      <td>3.5</td>\n",
       "    </tr>\n",
       "    <tr>\n",
       "      <th>...</th>\n",
       "      <td>...</td>\n",
       "      <td>...</td>\n",
       "      <td>...</td>\n",
       "      <td>...</td>\n",
       "    </tr>\n",
       "    <tr>\n",
       "      <th>839</th>\n",
       "      <td>2017-12-01</td>\n",
       "      <td>4.1</td>\n",
       "      <td>4.1</td>\n",
       "      <td>4.1</td>\n",
       "    </tr>\n",
       "    <tr>\n",
       "      <th>840</th>\n",
       "      <td>2018-01-01</td>\n",
       "      <td>4.1</td>\n",
       "      <td>4.1</td>\n",
       "      <td>4.1</td>\n",
       "    </tr>\n",
       "    <tr>\n",
       "      <th>841</th>\n",
       "      <td>2018-02-01</td>\n",
       "      <td>4.1</td>\n",
       "      <td>4.1</td>\n",
       "      <td>4.1</td>\n",
       "    </tr>\n",
       "    <tr>\n",
       "      <th>842</th>\n",
       "      <td>2018-03-01</td>\n",
       "      <td>4.1</td>\n",
       "      <td>4.1</td>\n",
       "      <td>4.1</td>\n",
       "    </tr>\n",
       "    <tr>\n",
       "      <th>843</th>\n",
       "      <td>2018-04-01</td>\n",
       "      <td>3.9</td>\n",
       "      <td>3.9</td>\n",
       "      <td>3.9</td>\n",
       "    </tr>\n",
       "  </tbody>\n",
       "</table>\n",
       "<p>844 rows × 4 columns</p>\n",
       "</div>"
      ],
      "text/plain": [
       "           DATE  UNRATE  UNRATE_random  UNRATE_bias\n",
       "0    1948-01-01     3.4            3.4          3.4\n",
       "1    1948-02-01     3.8            3.8          3.8\n",
       "2    1948-03-01     4.0            4.0          4.0\n",
       "3    1948-04-01     3.9            3.9          3.9\n",
       "4    1948-05-01     3.5            3.5          3.5\n",
       "..          ...     ...            ...          ...\n",
       "839  2017-12-01     4.1            4.1          4.1\n",
       "840  2018-01-01     4.1            4.1          4.1\n",
       "841  2018-02-01     4.1            4.1          4.1\n",
       "842  2018-03-01     4.1            4.1          4.1\n",
       "843  2018-04-01     3.9            3.9          3.9\n",
       "\n",
       "[844 rows x 4 columns]"
      ]
     },
     "execution_count": 251,
     "metadata": {},
     "output_type": "execute_result"
    }
   ],
   "source": [
    "merged_unemp"
   ]
  },
  {
   "cell_type": "code",
   "execution_count": 252,
   "id": "c1f35754-e413-4323-a1e9-42152f228481",
   "metadata": {},
   "outputs": [],
   "source": [
    "random_unemp = merged_unemp[['DATE', 'UNRATE_random']]\n",
    "bias_unemp = merged_unemp[['DATE', 'UNRATE_bias']]"
   ]
  },
  {
   "cell_type": "code",
   "execution_count": 259,
   "id": "7b790f49-3a72-4881-a1e9-789b0106b479",
   "metadata": {},
   "outputs": [
    {
     "data": {
      "text/html": [
       "<div>\n",
       "<style scoped>\n",
       "    .dataframe tbody tr th:only-of-type {\n",
       "        vertical-align: middle;\n",
       "    }\n",
       "\n",
       "    .dataframe tbody tr th {\n",
       "        vertical-align: top;\n",
       "    }\n",
       "\n",
       "    .dataframe thead th {\n",
       "        text-align: right;\n",
       "    }\n",
       "</style>\n",
       "<table border=\"1\" class=\"dataframe\">\n",
       "  <thead>\n",
       "    <tr style=\"text-align: right;\">\n",
       "      <th></th>\n",
       "      <th>DATE</th>\n",
       "      <th>UNRATE_random</th>\n",
       "    </tr>\n",
       "  </thead>\n",
       "  <tbody>\n",
       "    <tr>\n",
       "      <th>0</th>\n",
       "      <td>1948-01-01</td>\n",
       "      <td>3.4</td>\n",
       "    </tr>\n",
       "    <tr>\n",
       "      <th>1</th>\n",
       "      <td>1948-02-01</td>\n",
       "      <td>3.8</td>\n",
       "    </tr>\n",
       "    <tr>\n",
       "      <th>2</th>\n",
       "      <td>1948-03-01</td>\n",
       "      <td>4.0</td>\n",
       "    </tr>\n",
       "    <tr>\n",
       "      <th>3</th>\n",
       "      <td>1948-04-01</td>\n",
       "      <td>3.9</td>\n",
       "    </tr>\n",
       "    <tr>\n",
       "      <th>4</th>\n",
       "      <td>1948-05-01</td>\n",
       "      <td>3.5</td>\n",
       "    </tr>\n",
       "    <tr>\n",
       "      <th>...</th>\n",
       "      <td>...</td>\n",
       "      <td>...</td>\n",
       "    </tr>\n",
       "    <tr>\n",
       "      <th>839</th>\n",
       "      <td>2017-12-01</td>\n",
       "      <td>4.1</td>\n",
       "    </tr>\n",
       "    <tr>\n",
       "      <th>840</th>\n",
       "      <td>2018-01-01</td>\n",
       "      <td>4.1</td>\n",
       "    </tr>\n",
       "    <tr>\n",
       "      <th>841</th>\n",
       "      <td>2018-02-01</td>\n",
       "      <td>4.1</td>\n",
       "    </tr>\n",
       "    <tr>\n",
       "      <th>842</th>\n",
       "      <td>2018-03-01</td>\n",
       "      <td>4.1</td>\n",
       "    </tr>\n",
       "    <tr>\n",
       "      <th>843</th>\n",
       "      <td>2018-04-01</td>\n",
       "      <td>3.9</td>\n",
       "    </tr>\n",
       "  </tbody>\n",
       "</table>\n",
       "<p>844 rows × 2 columns</p>\n",
       "</div>"
      ],
      "text/plain": [
       "           DATE  UNRATE_random\n",
       "0    1948-01-01            3.4\n",
       "1    1948-02-01            3.8\n",
       "2    1948-03-01            4.0\n",
       "3    1948-04-01            3.9\n",
       "4    1948-05-01            3.5\n",
       "..          ...            ...\n",
       "839  2017-12-01            4.1\n",
       "840  2018-01-01            4.1\n",
       "841  2018-02-01            4.1\n",
       "842  2018-03-01            4.1\n",
       "843  2018-04-01            3.9\n",
       "\n",
       "[844 rows x 2 columns]"
      ]
     },
     "execution_count": 259,
     "metadata": {},
     "output_type": "execute_result"
    }
   ],
   "source": [
    "random_unemp.bfill()"
   ]
  },
  {
   "cell_type": "code",
   "execution_count": 262,
   "id": "fcbe7b50-441f-4202-bd55-21b663252490",
   "metadata": {},
   "outputs": [
    {
     "data": {
      "text/plain": [
       "<AxesSubplot:>"
      ]
     },
     "execution_count": 262,
     "metadata": {},
     "output_type": "execute_result"
    },
    {
     "data": {
      "image/png": "[encoded data removed]",
      "text/plain": [
       "<Figure size 432x288 with 1 Axes>"
      ]
     },
     "metadata": {
      "needs_background": "light"
     },
     "output_type": "display_data"
    }
   ],
   "source": [
    "merged_unemp.bfill()[(merged_unemp.DATE > '1977') & (merged_unemp.DATE < '1981')][['DATE', 'UNRATE', 'UNRATE_random']].plot()"
   ]
  },
  {
   "cell_type": "code",
   "execution_count": 261,
   "id": "49af4ee8-4825-42cc-badc-9687f4b216b0",
   "metadata": {},
   "outputs": [
    {
     "data": {
      "text/plain": [
       "<AxesSubplot:xlabel='UNRATE', ylabel='UNRATE_random'>"
      ]
     },
     "execution_count": 261,
     "metadata": {},
     "output_type": "execute_result"
    },
    {
     "data": {
      "image/png": "[encoded data removed]",
      "text/plain": [
       "<Figure size 432x288 with 1 Axes>"
      ]
     },
     "metadata": {
      "needs_background": "light"
     },
     "output_type": "display_data"
    }
   ],
   "source": [
    "merged_unemp.ffill().plot.scatter(x='UNRATE', y='UNRATE_random')"
   ]
  },
  {
   "cell_type": "code",
   "execution_count": 263,
   "id": "624d0332-0f76-45bc-8da5-00f77fbb29d9",
   "metadata": {},
   "outputs": [
    {
     "name": "stderr",
     "output_type": "stream",
     "text": [
      "/tmp/ipykernel_2013343/3794919707.py:1: FutureWarning: Dropping of nuisance columns in rolling operations is deprecated; in a future version this will raise TypeError. Select only valid columns before calling the operation. Dropped columns were Index(['DATE'], dtype='object')\n",
      "  merged_unemp.fillna(merged_unemp.rolling(3,min_periods=1).mean())[(merged_unemp.DATE > '1952') & (merged_unemp.DATE < '1957')][['DATE', 'UNRATE', 'UNRATE_random']].plot()\n"
     ]
    },
    {
     "data": {
      "text/plain": [
       "<AxesSubplot:>"
      ]
     },
     "execution_count": 263,
     "metadata": {},
     "output_type": "execute_result"
    },
    {
     "data": {
      "image/png": "[encoded data removed]",
      "text/plain": [
       "<Figure size 432x288 with 1 Axes>"
      ]
     },
     "metadata": {
      "needs_background": "light"
     },
     "output_type": "display_data"
    }
   ],
   "source": [
    "merged_unemp.fillna(merged_unemp.rolling(3,min_periods=1).mean())[(merged_unemp.DATE > '1952') & (merged_unemp.DATE < '1957')][['DATE', 'UNRATE', 'UNRATE_random']].plot()"
   ]
  },
  {
   "cell_type": "code",
   "execution_count": 264,
   "id": "c0b728e4-4ba0-48d9-9586-dbf3ed235583",
   "metadata": {},
   "outputs": [
    {
     "name": "stderr",
     "output_type": "stream",
     "text": [
      "/tmp/ipykernel_2013343/1554025807.py:1: FutureWarning: Dropping of nuisance columns in rolling operations is deprecated; in a future version this will raise TypeError. Select only valid columns before calling the operation. Dropped columns were Index(['DATE'], dtype='object')\n",
      "  merged_unemp.fillna(merged_unemp.rolling(3,min_periods=1, center=True).mean())[(merged_unemp.DATE > '1952') & (merged_unemp.DATE < '1957')][['DATE', 'UNRATE', 'UNRATE_random']].plot()\n"
     ]
    },
    {
     "data": {
      "text/plain": [
       "<AxesSubplot:>"
      ]
     },
     "execution_count": 264,
     "metadata": {},
     "output_type": "execute_result"
    },
    {
     "data": {
      "image/png": "[encoded data removed]",
      "text/plain": [
       "<Figure size 432x288 with 1 Axes>"
      ]
     },
     "metadata": {
      "needs_background": "light"
     },
     "output_type": "display_data"
    }
   ],
   "source": [
    "merged_unemp.fillna(merged_unemp.rolling(3,min_periods=1, center=True).mean())[(merged_unemp.DATE > '1952') & (merged_unemp.DATE < '1957')][['DATE', 'UNRATE', 'UNRATE_random']].plot()"
   ]
  },
  {
   "cell_type": "code",
   "execution_count": 271,
   "id": "0ba65565-8381-40b3-9322-1adf15bbf956",
   "metadata": {},
   "outputs": [
    {
     "data": {
      "text/plain": [
       "<AxesSubplot:>"
      ]
     },
     "execution_count": 271,
     "metadata": {},
     "output_type": "execute_result"
    },
    {
     "data": {
      "image/png": "[encoded data removed]",
      "text/plain": [
       "<Figure size 432x288 with 1 Axes>"
      ]
     },
     "metadata": {
      "needs_background": "light"
     },
     "output_type": "display_data"
    }
   ],
   "source": [
    "merged_unemp.interpolate(method='polynomial', order=3)[(merged_unemp.DATE > '1955') & (merged_unemp.DATE < '1958')][['DATE', 'UNRATE', 'UNRATE_random']].plot()"
   ]
  },
  {
   "cell_type": "code",
   "execution_count": 267,
   "id": "0c4b9fe4-ade7-423f-8e3e-781cd2274d8e",
   "metadata": {},
   "outputs": [
    {
     "data": {
      "text/plain": [
       "<AxesSubplot:>"
      ]
     },
     "execution_count": 267,
     "metadata": {},
     "output_type": "execute_result"
    },
    {
     "data": {
      "image/png": "[encoded data removed]",
      "text/plain": [
       "<Figure size 432x288 with 1 Axes>"
      ]
     },
     "metadata": {
      "needs_background": "light"
     },
     "output_type": "display_data"
    }
   ],
   "source": [
    "merged_unemp.interpolate(method='cubicspline')[(merged_unemp.DATE > '1955') & (merged_unemp.DATE < '1958')][['DATE', 'UNRATE', 'UNRATE_random']].plot()"
   ]
  },
  {
   "cell_type": "markdown",
   "id": "0b52c8e3-9e4b-4dc4-9f09-7587397b4759",
   "metadata": {},
   "source": [
    "# Overall Comparison"
   ]
  },
  {
   "cell_type": "code",
   "execution_count": 272,
   "id": "a663a477-4497-40ee-97ad-a4c653311620",
   "metadata": {},
   "outputs": [
    {
     "name": "stderr",
     "output_type": "stream",
     "text": [
      "/tmp/ipykernel_2013343/204330359.py:2: FutureWarning: Dropping of nuisance columns in rolling operations is deprecated; in a future version this will raise TypeError. Select only valid columns before calling the operation. Dropped columns were Index(['DATE'], dtype='object')\n",
      "  random_roll = random_unemp.rolling(3,min_periods=1).mean()\n",
      "/tmp/ipykernel_2013343/204330359.py:3: FutureWarning: Dropping of nuisance columns in rolling operations is deprecated; in a future version this will raise TypeError. Select only valid columns before calling the operation. Dropped columns were Index(['DATE'], dtype='object')\n",
      "  random_roll_lookahead = random_unemp.rolling(3,min_periods=1, center=True).mean()\n"
     ]
    }
   ],
   "source": [
    "random_ff = random_unemp.ffill()\n",
    "random_roll = random_unemp.rolling(3,min_periods=1).mean()\n",
    "random_roll_lookahead = random_unemp.rolling(3,min_periods=1, center=True).mean()\n",
    "random_li = random_unemp.interpolate(method='linear')\n",
    "random_cubic = random_unemp.interpolate(method='cubicspline')"
   ]
  },
  {
   "cell_type": "code",
   "execution_count": 273,
   "id": "7661ccba-564f-444c-8f52-858aa9bf8e29",
   "metadata": {},
   "outputs": [
    {
     "data": {
      "text/plain": [
       "0.0036966824644549742"
      ]
     },
     "execution_count": 273,
     "metadata": {},
     "output_type": "execute_result"
    }
   ],
   "source": [
    "((merged_unemp['UNRATE'] - random_ff['UNRATE_random'])**2).mean()"
   ]
  },
  {
   "cell_type": "code",
   "execution_count": 274,
   "id": "9b97dbdf-9955-4aa4-a093-69a24e1f9cd9",
   "metadata": {},
   "outputs": [
    {
     "data": {
      "text/plain": [
       "0.027674725855463076"
      ]
     },
     "execution_count": 274,
     "metadata": {},
     "output_type": "execute_result"
    }
   ],
   "source": [
    "((merged_unemp['UNRATE'] - random_roll['UNRATE_random'])**2).mean()"
   ]
  },
  {
   "cell_type": "code",
   "execution_count": 275,
   "id": "fc2a3e1f-b3dc-4940-a29b-60a0f430c788",
   "metadata": {},
   "outputs": [
    {
     "data": {
      "text/plain": [
       "0.010282732197119828"
      ]
     },
     "execution_count": 275,
     "metadata": {},
     "output_type": "execute_result"
    }
   ],
   "source": [
    "((merged_unemp['UNRATE'] - random_roll_lookahead['UNRATE_random'])**2).mean()"
   ]
  },
  {
   "cell_type": "code",
   "execution_count": 276,
   "id": "f3d08f50-ea11-43d8-ae62-5d27642050ea",
   "metadata": {},
   "outputs": [
    {
     "data": {
      "text/plain": [
       "0.0018177330173775655"
      ]
     },
     "execution_count": 276,
     "metadata": {},
     "output_type": "execute_result"
    }
   ],
   "source": [
    "((merged_unemp['UNRATE'] - random_li['UNRATE_random'])**2).mean()"
   ]
  },
  {
   "cell_type": "code",
   "execution_count": 277,
   "id": "b313294a-b7dc-4e6e-a568-3f10e22fcb1a",
   "metadata": {},
   "outputs": [
    {
     "data": {
      "text/plain": [
       "0.0031927667013682283"
      ]
     },
     "execution_count": 277,
     "metadata": {},
     "output_type": "execute_result"
    }
   ],
   "source": [
    "((merged_unemp['UNRATE'] - random_cubic['UNRATE_random'])**2).mean()"
   ]
  },
  {
   "cell_type": "code",
   "execution_count": 278,
   "id": "03b7ecb7-4f37-40e2-8ba1-633a3db68d6f",
   "metadata": {},
   "outputs": [
    {
     "name": "stderr",
     "output_type": "stream",
     "text": [
      "/tmp/ipykernel_2013343/4220485564.py:2: FutureWarning: Dropping of nuisance columns in rolling operations is deprecated; in a future version this will raise TypeError. Select only valid columns before calling the operation. Dropped columns were Index(['DATE'], dtype='object')\n",
      "  bias_roll = bias_unemp.rolling(3,min_periods=1).mean()\n",
      "/tmp/ipykernel_2013343/4220485564.py:3: FutureWarning: Dropping of nuisance columns in rolling operations is deprecated; in a future version this will raise TypeError. Select only valid columns before calling the operation. Dropped columns were Index(['DATE'], dtype='object')\n",
      "  bias_roll_lookahead = bias_unemp.rolling(3,min_periods=1, center=True).mean()\n"
     ]
    }
   ],
   "source": [
    "bias_ff = bias_unemp.ffill()\n",
    "bias_roll = bias_unemp.rolling(3,min_periods=1).mean()\n",
    "bias_roll_lookahead = bias_unemp.rolling(3,min_periods=1, center=True).mean()\n",
    "bias_li = bias_unemp.interpolate(method='linear')\n",
    "bias_cubic = bias_unemp.interpolate(method='cubicspline')"
   ]
  },
  {
   "cell_type": "code",
   "execution_count": 279,
   "id": "acedd4f9-0f3a-497e-9e22-753ad0bda9ea",
   "metadata": {},
   "outputs": [
    {
     "data": {
      "text/plain": [
       "0.0025947867298578213"
      ]
     },
     "execution_count": 279,
     "metadata": {},
     "output_type": "execute_result"
    }
   ],
   "source": [
    "((merged_unemp['UNRATE'] - bias_ff['UNRATE_bias'])**2).mean()"
   ]
  },
  {
   "cell_type": "code",
   "execution_count": 280,
   "id": "2235de30-7523-4031-bdc1-feffede23ceb",
   "metadata": {},
   "outputs": [
    {
     "data": {
      "text/plain": [
       "0.028932991047919958"
      ]
     },
     "execution_count": 280,
     "metadata": {},
     "output_type": "execute_result"
    }
   ],
   "source": [
    "((merged_unemp['UNRATE'] - bias_roll['UNRATE_bias'])**2).mean()"
   ]
  },
  {
   "cell_type": "code",
   "execution_count": 281,
   "id": "b013a0d2-7702-444a-a65d-0ec6f579b94c",
   "metadata": {},
   "outputs": [
    {
     "data": {
      "text/plain": [
       "0.00930818852027383"
      ]
     },
     "execution_count": 281,
     "metadata": {},
     "output_type": "execute_result"
    }
   ],
   "source": [
    "((merged_unemp['UNRATE'] - bias_roll_lookahead['UNRATE_bias'])**2).mean()"
   ]
  },
  {
   "cell_type": "code",
   "execution_count": 282,
   "id": "aa31fcd1-fae3-4347-a4d2-1ab2861baa5c",
   "metadata": {},
   "outputs": [
    {
     "data": {
      "text/plain": [
       "0.00048545286993154047"
      ]
     },
     "execution_count": 282,
     "metadata": {},
     "output_type": "execute_result"
    }
   ],
   "source": [
    "((merged_unemp['UNRATE'] - bias_li['UNRATE_bias'])**2).mean()"
   ]
  },
  {
   "cell_type": "code",
   "execution_count": 283,
   "id": "b364d770-6112-4258-9cf0-e12f492f7d5f",
   "metadata": {},
   "outputs": [
    {
     "data": {
      "text/plain": [
       "0.000557602783032866"
      ]
     },
     "execution_count": 283,
     "metadata": {},
     "output_type": "execute_result"
    }
   ],
   "source": [
    "((merged_unemp['UNRATE'] - bias_cubic['UNRATE_bias'])**2).mean()"
   ]
  },
  {
   "cell_type": "markdown",
   "id": "5c2c24d6-8be9-4417-bfca-f98c54a58a6f",
   "metadata": {},
   "source": [
    "# Downsampling"
   ]
  },
  {
   "cell_type": "code",
   "execution_count": null,
   "id": "4bd9aa90-aa48-44f0-a5c5-8dcaf01cc4c5",
   "metadata": {},
   "outputs": [],
   "source": [
    "unemp[::12]"
   ]
  },
  {
   "cell_type": "code",
   "execution_count": null,
   "id": "b4a00d84-40c4-4ceb-833c-f227f4eb78c9",
   "metadata": {},
   "outputs": [],
   "source": [
    "unemp.rolling(12, min_periods=1).mean()[11::12]"
   ]
  },
  {
   "cell_type": "code",
   "execution_count": null,
   "id": "165a5236-ad35-40fd-95a0-382b3180d577",
   "metadata": {},
   "outputs": [],
   "source": []
  }
 ],
 "metadata": {
  "kernelspec": {
   "display_name": "venv38",
   "language": "python",
   "name": "venv38"
  },
  "language_info": {
   "codemirror_mode": {
    "name": "ipython",
    "version": 3
   },
   "file_extension": ".py",
   "mimetype": "text/x-python",
   "name": "python",
   "nbconvert_exporter": "python",
   "pygments_lexer": "ipython3",
   "version": "3.8.0"
  }
 },
 "nbformat": 4,
 "nbformat_minor": 5
}
